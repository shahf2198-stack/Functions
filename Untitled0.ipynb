{
  "nbformat": 4,
  "nbformat_minor": 0,
  "metadata": {
    "colab": {
      "provenance": []
    },
    "kernelspec": {
      "name": "python3",
      "display_name": "Python 3"
    },
    "language_info": {
      "name": "python"
    }
  },
  "cells": [
    {
      "cell_type": "markdown",
      "source": [
        "# Functions"
      ],
      "metadata": {
        "id": "KZnIQt0d_Z0v"
      }
    },
    {
      "cell_type": "code",
      "execution_count": null,
      "metadata": {
        "id": "O9la8Whv_YyE"
      },
      "outputs": [],
      "source": []
    },
    {
      "cell_type": "markdown",
      "source": [
        "1. What is the difference between a function and a method in Python?\n",
        "   - In Python, both functions and methods are blocks of reusable code designed to perform specific tasks, but their key distinction lies in their association with objects and classes.\n",
        "Function:\n",
        "A function is a standalone block of code that is not associated with any particular object or class. It can be defined and called independently. Functions operate on the data passed to them as arguments and can optionally return a value.\n",
        "Example of a Function:\n",
        "def greet(name):\n",
        "    return f\"Hello, {name}!\"\n",
        "\n",
        "message = greet(\"Alice\")\n",
        "print(message)\n",
        "\n",
        "2. Explain the concept of function arguments and parameters in Python.\n",
        "   - In Python, parameters and arguments are fundamental concepts for defining and using functions. While often used interchangeably, they represent distinct aspects of function interaction.\n",
        "Parameters:\n",
        "Parameters are the named variables listed inside the parentheses in a function's definition. They act as placeholders for the values that will be passed into the function when it is called. Parameters define the type and number of inputs a function expects.\n",
        "Arguments:\n",
        "Arguments are the actual values or expressions that are passed to a function when it is called. These values are assigned to the corresponding parameters in the function definition, allowing the function to operate on specific data.\n",
        "Example:\n",
        "def greet(name, greeting=\"Hello\"):  # 'name' and 'greeting' are parameters\n",
        "    \"\"\"\n",
        "    This function greets a person with an optional custom greeting.\n",
        "    \"\"\"\n",
        "    print(f\"{greeting}, {name}!\")\n",
        "\n",
        "# Calling the function with arguments\n",
        "greet(\"Alice\")  # \"Alice\" is an argument for 'name', 'greeting' uses its default value\n",
        "greet(\"Bob\", \"Good morning\") # \"Bob\" is an argument for 'name', \"Good morning\" is an argument for 'greeting'\n",
        "\n",
        "3. What are the different ways to define and call a function in Python?\n",
        "   - Functions in Python are defined using the def keyword. The general syntax for defining a function is:\n",
        "   def function_name(parameters):\n",
        "    \"\"\"Docstring: Optional description of the function.\"\"\"\n",
        "    # Function body - code to be executed\n",
        "    # ...\n",
        "    return expression  # Optional: returns a value\n",
        "    def keyword: Marks the beginning of the function definition.\n",
        "function_name: A unique identifier for the function.\n",
        "parameters: Optional input values the function can accept, enclosed in parentheses. Multiple parameters are separated by commas.\n",
        ": (colon): Indicates the start of the function's code block.\n",
        "Indentation: The code within the function body must be consistently indented to define its scope.\n",
        "docstring: An optional string literal used to document the function's purpose.\n",
        "return statement: Optionally returns a value from the function. If omitted or used without an expression, the function implicitly returns None.\n",
        "\n",
        "4. What is the purpose of the `return` statement in a Python function?\n",
        "   - The return statement in a Python function serves to exit the function and send a value or set of values back to the calling code. When a return statement is executed, the function's execution terminates, and control is transferred back to the point in the program where the function was called. The value specified after return is then made available to the caller.\n",
        "Purpose of return:\n",
        "Returning a Result: The primary purpose is to provide an output or result from a function. This allows functions to perform calculations, process data, or retrieve information and then make that result available for further use in the program.\n",
        "Exiting a Function: return explicitly ends the function's execution. Any code written after a return statement within the same function will not be executed.\n",
        "Conditional Exiting: return can be used within conditional statements to exit a function early based on certain conditions, preventing unnecessary computations.\n",
        "Example:\n",
        "def calculate_area_rectangle(length, width):\n",
        "    \"\"\"\n",
        "    Calculates the area of a rectangle.\n",
        "    \"\"\"\n",
        "    if length <= 0 or width <= 0:\n",
        "        return \"Error: Length and width must be positive values.\" # Conditional return\n",
        "\n",
        "    area = length * width\n",
        "    return area  # Returns the calculated area\n",
        "\n",
        "# Calling the function and using its return value\n",
        "rectangle_area1 = calculate_area_rectangle(5, 10)\n",
        "print(f\"The area of rectangle 1 is: {rectangle_area1}\")\n",
        "\n",
        "rectangle_area2 = calculate_area_rectangle(7, 3)\n",
        "print(f\"The area of rectangle 2 is: {rectangle_area2}\")\n",
        "\n",
        "invalid_area = calculate_area_rectangle(-2, 5)\n",
        "print(f\"Attempting to calculate area with invalid dimensions: {invalid_area}\")\n",
        "\n",
        "5. What are iterators in Python and how do they differ from iterables?\n",
        "   - In Python, iterables and iterators are distinct but related concepts fundamental to how loops and data traversal work.\n",
        "An iterable is an object that can be iterated over, meaning it can return its members one at a time. This is typically achieved by implementing the __iter__() method, which returns an iterator object, or the __getitem__() method, which allows access by sequential indices starting from 0. Common examples of iterables include lists, tuples, strings, dictionaries, and sets.\n",
        "An iterator is an object that represents a stream of data and facilitates the process of iterating over an iterable. It must implement two methods:\n",
        "__iter__(): Returns the iterator object itself.\n",
        "__next__(): Returns the next item from the sequence. If there are no more items, it raises a StopIteration exception.\n",
        "Key Differences:\n",
        "Capabilities: An iterable can be iterated over, while an iterator performs the iteration.\n",
        "Methods: Iterables typically define __iter__() (or __getitem__()), while iterators define both __iter__() and __next__().\n",
        "State: An iterator maintains an internal state to keep track of the current position during iteration, whereas an iterable does not inherently store this state.\n",
        "Creation: An iterator can be created from an iterable using the built-in iter() function.\n",
        "\n",
        "6.  Explain the concept of generators in Python and how they are defined.\n",
        "    - Generators in Python are a powerful and memory-efficient way to create iterators. Unlike regular functions that compute and return all values at once, generators produce values one at a time, \"on the fly,\" as they are requested. This makes them particularly useful for handling large datasets or infinite sequences, as they do not need to store the entire sequence in memory.\n",
        "How Generators are Defined:\n",
        "Generators are defined using generator functions or generator expressions. generator functions.\n",
        "A generator function is similar to a regular Python function, but instead of using the return keyword to send back a value and terminate, it uses the yield keyword. When yield is encountered, the function pauses its execution, returns the yielded value, and saves its internal state. The next time a value is requested, the function resumes from where it left off.\n",
        "    def my_generator():\n",
        "        yield 1\n",
        "        yield 2\n",
        "        yield 3\n",
        "\n",
        "    # Creating a generator object\n",
        "    gen = my_generator()\n",
        "\n",
        "    # Retrieving values using next()\n",
        "    print(next(gen))  # Output: 1\n",
        "    print(next(gen))  # Output: 2\n",
        "\n",
        "    # Iterating through the remaining values\n",
        "    for num in gen:\n",
        "        print(num)  # Output: 3\n",
        "\n",
        "7. What are the advantages of using generators over regular functions?\n",
        "   - Understanding Javascript Generator Functions | by Sumit ...Generators provide memory efficiency by producing items one by one (lazily) rather than creating an entire collection, which is ideal for large datasets or infinite sequences. They also simplify the creation of iterators and can significantly improve performance for data processing and streaming by avoiding the overhead of storing everything in memory. For example, a generator function can stream a large file or generate an infinite sequence of Fibonacci numbers, yielding each number as needed, while a regular function would need to load the entire file or calculate all numbers at once, consuming significant memory.\n",
        "Key Advantages of Generators\n",
        "Memory Efficiency:\n",
        "Generators produce values on-the-fly using the yield keyword instead of returning a complete list or collection, consuming only the memory needed for the current item.\n",
        "Lazy Evaluation:\n",
        "Values are generated only when they are requested, allowing for efficient processing of potentially infinite or very large datasets.\n",
        "Performance Improvement:\n",
        "By avoiding the upfront creation of all data, generators can reduce both memory usage and execution time.\n",
        "Simplified Iterator Creation:\n",
        "Generators automatically handle the complexities of creating iterators, such as the __iter__() and __next__() methods, which would otherwise require more manual coding.\n",
        "Can Handle Infinite Sequences:\n",
        "Generators can be used to produce an endless stream of data without requiring infinite memory, which is impossible with a regular function.\n",
        "Example: Regular Function vs. Generator\n",
        "Let's compare a regular function that generates a list of squares up to a certain number with a generator function.\n",
        "Regular Function (Non-Generator):\n",
        "This function creates and returns a complete list of squares.\n",
        "\n",
        "8.  What is a lambda function in Python and when is it typically used?\n",
        "    - A lambda function in Python is a small, anonymous function defined using the lambda keyword. Unlike regular functions defined with def, lambda functions are restricted to a single expression, which is implicitly returned. They do not have a name, although they can be assigned to variables.\n",
        "Syntax:\n",
        "lambda arguments: expression\n",
        "\n",
        "9.  Explain the purpose and usage of the `map()` function in Python.\n",
        "    - The map() function in Python serves the purpose of applying a specified function to each item in an iterable (such as a list, tuple, or set) and returning an iterator that yields the results. It provides a concise and often more efficient way to perform transformations across a collection of data without explicitly writing a for loop.\n",
        "Usage:\n",
        "The syntax for map() is:\n",
        "map(function, iterable, ...)\n",
        "function: The function to be applied to each item. This can be a built-in function, a user-defined function, or a lambda function.\n",
        "iterable: One or more iterables whose elements will be passed as arguments to the function. If multiple iterables are provided, the function must accept a corresponding number of arguments.\n",
        "The map() function returns a map object, which is an iterator. To view the results, this object typically needs to be converted into a list, tuple, or other desired data structure.\n",
        "Example:\n",
        "Consider a scenario where a list of numbers needs to be squared.\n",
        "def square(number):\n",
        "    return number * number\n",
        "\n",
        "numbers = [1, 2, 3, 4, 5]\n",
        "\n",
        "# Applying the square function to each number using map()\n",
        "squared_numbers_map_object = map(square, numbers)\n",
        "\n",
        "# Converting the map object to a list to view the results\n",
        "squared_numbers_list = list(squared_numbers_map_object)\n",
        "\n",
        "print(squared_numbers_list)\n",
        "Output:\n",
        "[1, 4, 9, 16, 25]\n",
        "\n",
        "10. What is the difference between `map()`, `reduce()`, and `filter()` functions in Python?\n",
        "    - The map(), filter(), and reduce() functions in Python are higher-order functions used for functional programming paradigms, each serving a distinct purpose in data manipulation.\n",
        "map()\n",
        "The map() function applies a given function to each item in an iterable (like a list, tuple, or set) and returns an iterator that yields the results. It is used for transformation.\n",
        "# Example of map()\n",
        "numbers = [1, 2, 3, 4, 5]\n",
        "\n",
        "# Square each number using map() and a lambda function\n",
        "squared_numbers = list(map(lambda x: x * x, numbers))\n",
        "print(f\"Original numbers: {numbers}\")\n",
        "print(f\"Squared numbers (using map): {squared_numbers}\")\n",
        "# Output: Squared numbers (using map): [1, 4, 9, 16, 25]\n"
      ],
      "metadata": {
        "id": "PZDZCNbI_iBe"
      }
    },
    {
      "cell_type": "code",
      "source": [
        "#  Create a Python function that accepts a string and returns the reverse of that string.\n",
        "def reverse_string(s):\n",
        "    return s[::-1]\n",
        "input_string = \"Hello, World!\"\n",
        "result = reverse_string(input_string)\n",
        "print(result)\n"
      ],
      "metadata": {
        "colab": {
          "base_uri": "https://localhost:8080/"
        },
        "id": "cBZwLW-fDLun",
        "outputId": "c532fd7e-8739-4ff8-e74a-3b7bd4649f9d"
      },
      "execution_count": 20,
      "outputs": [
        {
          "output_type": "stream",
          "name": "stdout",
          "text": [
            "!dlroW ,olleH\n"
          ]
        }
      ]
    },
    {
      "cell_type": "code",
      "source": [
        "#  Implement a Python function that takes a list of integers and returns a new list containing the squares of each number.\n",
        "def square_numbers(numbers):\n",
        "    return [num ** 2 for num in numbers]\n",
        "numbers = [1, 2, 3, 4, 5]\n",
        "result = square_numbers(numbers)\n",
        "print(result)"
      ],
      "metadata": {
        "colab": {
          "base_uri": "https://localhost:8080/"
        },
        "id": "2RhVVj2rFd24",
        "outputId": "d20b4de0-2369-4976-a976-35e345ee981d"
      },
      "execution_count": 24,
      "outputs": [
        {
          "output_type": "stream",
          "name": "stdout",
          "text": [
            "[1, 4, 9, 16, 25]\n"
          ]
        }
      ]
    },
    {
      "cell_type": "code",
      "source": [
        "#  Write a Python function that takes a list of numbers as input and returns the sum of all even numbers in the list.\n",
        "def sum_of_even_numbers(numbers):\n",
        "    # Initialize sum variable\n",
        "    total = 0\n",
        "    # Iterate through the list and check if the number is even\n",
        "    for num in numbers:\n",
        "        if num % 2 == 0:\n",
        "            total += num\n",
        "    return total\n",
        "numbers = [1, 2, 3, 4, 5, 6]\n",
        "result = sum_of_even_numbers(numbers)\n",
        "print(result)"
      ],
      "metadata": {
        "colab": {
          "base_uri": "https://localhost:8080/"
        },
        "id": "wLbXgXgzGQll",
        "outputId": "8ea8f637-748a-4d65-e3a4-42adc8af2c9e"
      },
      "execution_count": 26,
      "outputs": [
        {
          "output_type": "stream",
          "name": "stdout",
          "text": [
            "12\n"
          ]
        }
      ]
    },
    {
      "cell_type": "code",
      "source": [
        "# Write a Python function that checks if a given number is prime or not from 1 to 200.\n",
        "def is_prime(num):\n",
        "    if num <= 1:\n",
        "        return False\n",
        "    for i in range(2, int(num ** 0.5) + 1):\n",
        "        if num % i == 0:\n",
        "            return False\n",
        "    return True\n",
        "# List of numbers from 1 to 200\n",
        "for number in range(1, 201):\n",
        "    if is_prime(number):\n",
        "        print(number, end=\" \")  # Output all primes from 1 to 200\n"
      ],
      "metadata": {
        "colab": {
          "base_uri": "https://localhost:8080/"
        },
        "id": "ATLGu_1PGh6t",
        "outputId": "eb2eaff4-68f1-4ec3-80be-eae879195464"
      },
      "execution_count": 28,
      "outputs": [
        {
          "output_type": "stream",
          "name": "stdout",
          "text": [
            "2 3 5 7 11 13 17 19 23 29 31 37 41 43 47 53 59 61 67 71 73 79 83 89 97 101 103 107 109 113 127 131 137 139 149 151 157 163 167 173 179 181 191 193 197 199 "
          ]
        }
      ]
    },
    {
      "cell_type": "code",
      "source": [
        "#  Create an iterator class in Python that generates the Fibonacci sequence up to a specified number of terms.\n",
        "class FibonacciIterator:\n",
        "    def __init__(self, terms):\n",
        "        self.terms = terms  # Number of terms in the sequence\n",
        "        self.current = 0  # First Fibonacci term (F(0))\n",
        "        self.next_value = 1  # Second Fibonacci term (F(1))\n",
        "\n",
        "    def __iter__(self):\n",
        "        return self\n",
        "\n",
        "    def __next__(self):\n",
        "        if self.current < self.terms:\n",
        "            if self.current == 0:\n",
        "                self.current += 1\n",
        "                return 0\n",
        "            elif self.current == 1:\n",
        "                self.current += 1\n",
        "                return 1\n",
        "            else:\n",
        "                # Calculate the next Fibonacci number\n",
        "                fib_value = self.current + self.next_value\n",
        "                self.current, self.next_value = self.next_value, fib_value\n",
        "                return self.next_value\n",
        "        else:\n",
        "            raise StopIteration  # Stop when we have generated the requested terms\n",
        "# Create an iterator for the first 10 Fibonacci numbers\n",
        "fibonacci_iter = FibonacciIterator(10)\n",
        "\n",
        "# Iterate through the Fibonacci sequence\n",
        "for num in fibonacci_iter:\n",
        "    print(num)\n"
      ],
      "metadata": {
        "colab": {
          "base_uri": "https://localhost:8080/"
        },
        "id": "4GPM9tmdGxms",
        "outputId": "0be5d3de-6977-4bfd-e82f-5723b4bc96cd"
      },
      "execution_count": 30,
      "outputs": [
        {
          "output_type": "stream",
          "name": "stdout",
          "text": [
            "0\n",
            "1\n",
            "3\n",
            "1\n",
            "5\n",
            "8\n",
            "13\n",
            "21\n"
          ]
        }
      ]
    },
    {
      "cell_type": "code",
      "source": [
        "# Write a generator function in Python that yields the powers of 2 up to a given exponent.\n",
        "def powers_of_two(exponent):\n",
        "    for i in range(exponent + 1):\n",
        "        yield 2 ** i\n",
        "# Generate powers of 2 up to 2^5\n",
        "for power in powers_of_two(5):\n",
        "    print(power)\n"
      ],
      "metadata": {
        "colab": {
          "base_uri": "https://localhost:8080/"
        },
        "id": "TAqGEV7NHCv2",
        "outputId": "9cdf7e6a-012a-4d9e-d7dd-5bafc6ec6ae4"
      },
      "execution_count": 32,
      "outputs": [
        {
          "output_type": "stream",
          "name": "stdout",
          "text": [
            "1\n",
            "2\n",
            "4\n",
            "8\n",
            "16\n",
            "32\n"
          ]
        }
      ]
    },
    {
      "cell_type": "code",
      "source": [
        "#  Implement a generator function that reads a file line by line and yields each line as a string.\n",
        "def read_file_lines(filepath):\n",
        "    \"\"\"\n",
        "    Reads a file line by line and yields each line as a string.\n",
        "\n",
        "    Args:\n",
        "        filepath (str): The path to the file to be read.\n",
        "\n",
        "    Yields:\n",
        "        str: Each line from the file, including the newline character if present.\n",
        "    \"\"\"\n",
        "    try:\n",
        "        with open(filepath, 'r') as file:\n",
        "            for line in file:\n",
        "                yield line\n",
        "    except FileNotFoundError:\n",
        "        print(f\"Error: The file '{filepath}' was not found.\")\n",
        "    except Exception as e:\n",
        "        print(f\"An error occurred: {e}\")\n",
        "with open(\"example.txt\", \"w\") as f:\n",
        "    f.write(\"This is line 1.\\n\")\n",
        "    f.write(\"This is line 2.\\n\")\n",
        "    f.write(\"This is line 3.\\n\")\n",
        "    for content_line in read_file_lines(\"example.txt\"):\n",
        "    print(content_line.strip())"
      ],
      "metadata": {
        "id": "o_mvpcmUHLJp"
      },
      "execution_count": null,
      "outputs": []
    },
    {
      "cell_type": "code",
      "source": [
        "# Use a lambda function in Python to sort a list of tuples based on the second element of each tuple.\n",
        "# List of tuples\n",
        "data = [(1, 3), (2, 1), (4, 2), (5, 0)]\n",
        "\n",
        "# Sort the list of tuples based on the second element (index 1) of each tuple\n",
        "sorted_data = sorted(data, key=lambda x: x[1])\n",
        "\n",
        "print(sorted_data)\n"
      ],
      "metadata": {
        "colab": {
          "base_uri": "https://localhost:8080/"
        },
        "id": "JUmeTDPsIMGD",
        "outputId": "4f832405-35b7-4672-ad2b-a455b9989caf"
      },
      "execution_count": 39,
      "outputs": [
        {
          "output_type": "stream",
          "name": "stdout",
          "text": [
            "[(5, 0), (2, 1), (4, 2), (1, 3)]\n"
          ]
        }
      ]
    },
    {
      "cell_type": "code",
      "source": [
        "# Write a Python program that uses `map()` to convert a list of temperatures from Celsius to Fahrenheit.\n",
        "# List of temperatures in Celsius\n",
        "celsius_temperatures = [0, 25, 30, 15, 40, 100]\n",
        "\n",
        "# Function to convert Celsius to Fahrenheit\n",
        "def celsius_to_fahrenheit(celsius):\n",
        "    return (celsius * 9/5) + 32\n",
        "\n",
        "# Use map() to apply the conversion to each element in the list\n",
        "fahrenheit_temperatures = list(map(celsius_to_fahrenheit, celsius_temperatures))\n",
        "\n",
        "# Print the result\n",
        "print(fahrenheit_temperatures)\n"
      ],
      "metadata": {
        "colab": {
          "base_uri": "https://localhost:8080/"
        },
        "id": "qUfwNAFLIZRU",
        "outputId": "4ec22875-472b-4d6e-8760-d29fed581c24"
      },
      "execution_count": 40,
      "outputs": [
        {
          "output_type": "stream",
          "name": "stdout",
          "text": [
            "[32.0, 77.0, 86.0, 59.0, 104.0, 212.0]\n"
          ]
        }
      ]
    },
    {
      "cell_type": "code",
      "source": [
        "#  Create a Python program that uses `filter()` to remove all the vowels from a given string.\n",
        "# Function to check if a character is not a vowel\n",
        "def is_not_vowel(char):\n",
        "    vowels = \"aeiouAEIOU\"\n",
        "    return char not in vowels\n",
        "\n",
        "# Input string\n",
        "input_string = \"Hello, World!\"\n",
        "\n",
        "# Use filter() to remove vowels and join the result into a new string\n",
        "filtered_string = ''.join(filter(is_not_vowel, input_string))\n",
        "\n",
        "# Print the result\n",
        "print(filtered_string)\n"
      ],
      "metadata": {
        "colab": {
          "base_uri": "https://localhost:8080/"
        },
        "id": "CPo15ghAIjX-",
        "outputId": "7be0aca5-56ef-4d85-c433-45bf62b92839"
      },
      "execution_count": 41,
      "outputs": [
        {
          "output_type": "stream",
          "name": "stdout",
          "text": [
            "Hll, Wrld!\n"
          ]
        }
      ]
    }
  ]
}